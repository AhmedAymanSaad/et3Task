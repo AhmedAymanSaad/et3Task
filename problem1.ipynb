{
 "cells": [
  {
   "cell_type": "code",
   "execution_count": 8,
   "metadata": {},
   "outputs": [],
   "source": [
    "FOLDER_PATH = \"../problem1\"\n",
    "IMG_EXT = ['jpg','png', 'jpeg', 'gif', 'bmp']\n",
    "ZIP_EXT = ['zip', 'rar', '7z', 'tar', 'gz', 'bz2', 'xz']\n",
    "DST_PATH = \"./problem1ImgsFolder\"\n",
    "CSV_PATH = \"./problem1.csv\""
   ]
  },
  {
   "cell_type": "code",
   "execution_count": 9,
   "metadata": {},
   "outputs": [],
   "source": [
    "import os\n",
    "import zipfile\n",
    "import shutil\n",
    "import time"
   ]
  },
  {
   "cell_type": "code",
   "execution_count": 10,
   "metadata": {},
   "outputs": [],
   "source": [
    "folder_queue = [FOLDER_PATH]\n",
    "img_list = []"
   ]
  },
  {
   "cell_type": "code",
   "execution_count": 11,
   "metadata": {},
   "outputs": [],
   "source": [
    "# Check if destination folder exists\n",
    "if not os.path.exists(DST_PATH):\n",
    "    os.mkdir(DST_PATH)\n",
    "else:\n",
    "    # Remove all files and directories in destination folder\n",
    "    for root, dirs, files in os.walk(DST_PATH, topdown=False):\n",
    "        for name in files:\n",
    "            os.remove(os.path.join(root, name))\n",
    "        for name in dirs:\n",
    "            os.rmdir(os.path.join(root, name))\n",
    "# create a temp folder to store extracted files\n",
    "os.mkdir(DST_PATH + \"/temp\")\n"
   ]
  },
  {
   "cell_type": "code",
   "execution_count": 12,
   "metadata": {},
   "outputs": [],
   "source": [
    "# Check if CSV file exists\n",
    "if os.path.exists(CSV_PATH):\n",
    "    os.remove(CSV_PATH)\n",
    "else:\n",
    "    # Create CSV file\n",
    "    with open(CSV_PATH, 'w') as f:\n",
    "        f.write(\"Image, Image Size, Image Modification Data\\n\")"
   ]
  },
  {
   "cell_type": "code",
   "execution_count": 13,
   "metadata": {},
   "outputs": [],
   "source": [
    "# Check the folder queue\n",
    "while len(folder_queue) > 0:\n",
    "    folder_current = folder_queue.pop(0)\n",
    "    # extract folder if it is a zip file\n",
    "    if folder_current.split('.')[-1] in ZIP_EXT:\n",
    "        with zipfile.ZipFile(folder_current, 'r') as zip_ref:\n",
    "            zip_ref.extractall(DST_PATH + \"/temp\")\n",
    "        folder_current = DST_PATH + \"/temp\"\n",
    "    for root, dirs, files in os.walk(folder_current):\n",
    "        for name in files:\n",
    "            ext = name.split('.')[-1]\n",
    "            if ext in IMG_EXT:\n",
    "                img_list.append(os.path.join(root, name))\n",
    "            elif ext in ZIP_EXT:\n",
    "                folder_queue.append(os.path.join(root, name))\n",
    "        for name in dirs:\n",
    "            folder_queue.append(os.path.join(root, name))"
   ]
  },
  {
   "cell_type": "code",
   "execution_count": 14,
   "metadata": {},
   "outputs": [],
   "source": [
    "# Copy all images to destination folder\n",
    "for img in img_list:\n",
    "    shutil.copy(img, DST_PATH)\n",
    "    # change the file name to remove the prefix before -\n",
    "    new_name = img.split('-')[-1]\n",
    "    try:\n",
    "        os.rename(os.path.join(DST_PATH, img.split('\\\\')[-1]), os.path.join(DST_PATH, new_name))\n",
    "    except FileExistsError:\n",
    "        # check last count for duplicated name\n",
    "        counter = 1\n",
    "        new_name = new_name.split('.')[0] + \"(\" + str(counter) + \").\" + new_name.split('.')[1]\n",
    "        while os.path.exists(os.path.join(DST_PATH, new_name)):\n",
    "            new_name = new_name.split('(')[0] + \"(\" + str(counter) + \").\" + new_name.split('.')[1]\n",
    "            counter += 1\n",
    "        os.rename(os.path.join(DST_PATH, img.split('\\\\')[-1]), os.path.join(DST_PATH, new_name))\n",
    "    # get the image name, size and last modified time\n",
    "    img_name = new_name.split('.')[0]           # remove the extension\n",
    "    img_size = os.path.getsize(os.path.join(DST_PATH, new_name))\n",
    "    img_last_modified = os.path.getmtime(img)   # get the last modified time of original image\n",
    "    # format the last modified time\n",
    "    img_last_modified = time.strftime('%Y-%m-%d %H:%M:%S', time.localtime(img_last_modified))\n",
    "    # write the image name, size and last modified time to a csv file\n",
    "    with open(CSV_PATH, 'a') as f:\n",
    "        f.write(\"{}, {}, {}\\n\".format(img_name, img_size, img_last_modified))"
   ]
  },
  {
   "cell_type": "code",
   "execution_count": 15,
   "metadata": {},
   "outputs": [],
   "source": [
    "# delete the temp folder\n",
    "shutil.rmtree(DST_PATH + \"/temp\")"
   ]
  }
 ],
 "metadata": {
  "kernelspec": {
   "display_name": "Python 3",
   "language": "python",
   "name": "python3"
  },
  "language_info": {
   "codemirror_mode": {
    "name": "ipython",
    "version": 3
   },
   "file_extension": ".py",
   "mimetype": "text/x-python",
   "name": "python",
   "nbconvert_exporter": "python",
   "pygments_lexer": "ipython3",
   "version": "3.9.2"
  },
  "orig_nbformat": 4
 },
 "nbformat": 4,
 "nbformat_minor": 2
}
