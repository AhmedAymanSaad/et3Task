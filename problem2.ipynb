{
 "cells": [
  {
   "cell_type": "code",
   "execution_count": 7,
   "metadata": {},
   "outputs": [],
   "source": [
    "TXT_FILE_PATH = \"../problem2/image1.txt\""
   ]
  },
  {
   "cell_type": "code",
   "execution_count": 8,
   "metadata": {},
   "outputs": [],
   "source": [
    "import json\n",
    "import os"
   ]
  },
  {
   "cell_type": "code",
   "execution_count": 9,
   "metadata": {},
   "outputs": [],
   "source": [
    "json_obj_list = []\n",
    "\n",
    "# read file line by line\n",
    "with open(TXT_FILE_PATH, 'r') as f:\n",
    "    lines = f.readlines()\n",
    "\n",
    "for line in lines:\n",
    "    # split the line by space\n",
    "    line_split = line.split(' ')\n",
    "    rotation = line_split[0]\n",
    "    x = line_split[1]\n",
    "    y = line_split[2]\n",
    "    width = line_split[3]\n",
    "    height = line_split[4].split('\\n')[0]\n",
    "    # create json object\n",
    "    json_obj = {\n",
    "        \"image_rotation\": float(rotation),\n",
    "        \"value\": {\n",
    "            \"x\": float(x),\n",
    "            \"y\": float(y),\n",
    "            \"width\": float(width),\n",
    "            \"height\": float(height),\n",
    "            \"rotation\": float(rotation),\n",
    "            \"rectanglelabels\": [\n",
    "                \"object\"\n",
    "            ]\n",
    "        }\n",
    "    }\n",
    "    json_obj_list.append(json_obj)\n",
    "\n",
    "result = { \"result\": json_obj_list }\n",
    "\n",
    "# write json object to file\n",
    "file_name = TXT_FILE_PATH.split('/')[-1].split('.')[0]\n",
    "# check if file exists\n",
    "if os.path.exists(\"./\" + file_name + \".json\"):\n",
    "    os.remove(\"./\" + file_name + \".json\")\n",
    "with open(\"./\" + file_name + \".json\", 'w') as f:\n",
    "    json.dump(result, f, indent=4)\n"
   ]
  }
 ],
 "metadata": {
  "kernelspec": {
   "display_name": "Python 3",
   "language": "python",
   "name": "python3"
  },
  "language_info": {
   "codemirror_mode": {
    "name": "ipython",
    "version": 3
   },
   "file_extension": ".py",
   "mimetype": "text/x-python",
   "name": "python",
   "nbconvert_exporter": "python",
   "pygments_lexer": "ipython3",
   "version": "3.9.2"
  },
  "orig_nbformat": 4
 },
 "nbformat": 4,
 "nbformat_minor": 2
}
